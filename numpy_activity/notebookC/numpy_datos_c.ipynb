{
 "cells": [
  {
   "cell_type": "code",
   "execution_count": 1,
   "id": "dbc9ea66",
   "metadata": {},
   "outputs": [
    {
     "name": "stdout",
     "output_type": "stream",
     "text": [
      "                             DATAFLOW        LAST UPDATE freq    unit sector  \\\n",
      "0  ESTAT:GOV_10A_EXP$DEFAULTVIEW(1.0)  03/01/23 11:00:00    A  PC_GDP    S13   \n",
      "1  ESTAT:GOV_10A_EXP$DEFAULTVIEW(1.0)  03/01/23 11:00:00    A  PC_GDP    S13   \n",
      "2  ESTAT:GOV_10A_EXP$DEFAULTVIEW(1.0)  03/01/23 11:00:00    A  PC_GDP    S13   \n",
      "3  ESTAT:GOV_10A_EXP$DEFAULTVIEW(1.0)  03/01/23 11:00:00    A  PC_GDP    S13   \n",
      "4  ESTAT:GOV_10A_EXP$DEFAULTVIEW(1.0)  03/01/23 11:00:00    A  PC_GDP    S13   \n",
      "\n",
      "  cofog99 na_item geo  TIME_PERIOD  OBS_VALUE OBS_FLAG  \n",
      "0    GF01      TE  AT         2012        7.3      NaN  \n",
      "1    GF01      TE  AT         2013        7.2      NaN  \n",
      "2    GF01      TE  AT         2014        6.8      NaN  \n",
      "3    GF01      TE  AT         2015        6.8      NaN  \n",
      "4    GF01      TE  AT         2016        6.5      NaN  \n",
      "Index(['DATAFLOW', 'LAST UPDATE', 'freq', 'unit', 'sector', 'cofog99',\n",
      "       'na_item', 'geo', 'TIME_PERIOD', 'OBS_VALUE', 'OBS_FLAG'],\n",
      "      dtype='object')\n",
      "DATAFLOW        object\n",
      "LAST UPDATE     object\n",
      "freq            object\n",
      "unit            object\n",
      "sector          object\n",
      "cofog99         object\n",
      "na_item         object\n",
      "geo             object\n",
      "TIME_PERIOD      int64\n",
      "OBS_VALUE      float64\n",
      "OBS_FLAG        object\n",
      "dtype: object\n"
     ]
    }
   ],
   "source": [
    "import numpy as np\n",
    "import pandas as pd\n",
    "c = pd.read_csv(\"datos_c.gz\",sep=',')\n",
    "print(c.head())\n",
    "print(c.columns)\n",
    "print(c.dtypes)"
   ]
  },
  {
   "cell_type": "code",
   "execution_count": 2,
   "id": "13ae2c66",
   "metadata": {},
   "outputs": [
    {
     "name": "stdout",
     "output_type": "stream",
     "text": [
      "[('2012',  7.3) ('2013',  7.2) ('2014',  6.8) ... ('2018', 14.7)\n",
      " ('2019', 14.6) ('2020', 16.1)]\n",
      "<class 'numpy.ndarray'>\n",
      "(15510,)\n"
     ]
    }
   ],
   "source": [
    "data_c = np.genfromtxt(\"datos_c\",delimiter=\",\",usecols=(8,9), dtype={'names':('year', 'value'), 'formats':('U64', float)},skip_header=1,filling_values='0')\n",
    "print(data_c)\n",
    "print(type(data_c))\n",
    "print(data_c.shape)\n"
   ]
  },
  {
   "cell_type": "code",
   "execution_count": 6,
   "id": "c98c9007",
   "metadata": {},
   "outputs": [
    {
     "name": "stdout",
     "output_type": "stream",
     "text": [
      "media valor 2012: 3.7674486803519063\n",
      "media valor 2013: 3.796715542521994\n",
      "media valor 2014: 3.7540762463343107\n",
      "media valor 2015: 3.6714369501466275\n",
      "media valor 2016: 3.5740762463343105\n",
      "media valor 2017: 3.5129618768328448\n",
      "media valor 2018: 3.5359530791788862\n",
      "media valor 2019: 3.523812316715542\n",
      "media valor 2020: 4.078944281524927\n",
      "media valor 2021: 4.41030303030303\n"
     ]
    }
   ],
   "source": [
    "v_12 = np.mean(data_c['value'][data_c['year']=='2012'])\n",
    "print(\"media valor 2012:\", np.mean(data_c['value'][data_c['year']=='2012']))\n",
    "v_13 = np.mean(data_c['value'][data_c['year']=='2013'])               \n",
    "print(\"media valor 2013:\", np.mean(data_c['value'][data_c['year']=='2013']))\n",
    "v_14 = np.mean(data_c['value'][data_c['year']=='2014'])\n",
    "print(\"media valor 2014:\", np.mean(data_c['value'][data_c['year']=='2014']))\n",
    "v_15 = np.mean(data_c['value'][data_c['year']=='2015'])\n",
    "print(\"media valor 2015:\", np.mean(data_c['value'][data_c['year']=='2015']))\n",
    "v_16 = np.mean(data_c['value'][data_c['year']=='2016'])\n",
    "print(\"media valor 2016:\", np.mean(data_c['value'][data_c['year']=='2016']))\n",
    "v_17 = np.mean(data_c['value'][data_c['year']=='2017'])\n",
    "print(\"media valor 2017:\", np.mean(data_c['value'][data_c['year']=='2017']))\n",
    "v_18 = np.mean(data_c['value'][data_c['year']=='2018'])\n",
    "print(\"media valor 2018:\", np.mean(data_c['value'][data_c['year']=='2018']))\n",
    "v_19 = np.mean(data_c['value'][data_c['year']=='2019'])\n",
    "print(\"media valor 2019:\", np.mean(data_c['value'][data_c['year']=='2019']))\n",
    "v_20 = np.mean(data_c['value'][data_c['year']=='2020'])\n",
    "print(\"media valor 2020:\", np.mean(data_c['value'][data_c['year']=='2020']))\n",
    "v_21 = np.mean(data_c['value'][data_c['year']=='2021'])\n",
    "print(\"media valor 2021:\", np.mean(data_c['value'][data_c['year']=='2021']))"
   ]
  },
  {
   "cell_type": "code",
   "execution_count": 3,
   "id": "861938fb",
   "metadata": {},
   "outputs": [
    {
     "name": "stdout",
     "output_type": "stream",
     "text": [
      "media valor: 3.6982591876208892\n",
      "varianza valor: 65.29658239832791\n",
      "desviacion estandar valor: 8.08063007433999\n"
     ]
    }
   ],
   "source": [
    "mean_value = np.mean(data_c['value'])\n",
    "print('media valor:', mean_value)\n",
    "\n",
    "var_value = np.var(data_c['value'])\n",
    "print('varianza valor:', var_value)\n",
    "\n",
    "std_value = np.std(data_c['value'])\n",
    "print('desviacion estandar valor:', std_value)"
   ]
  },
  {
   "cell_type": "code",
   "execution_count": 7,
   "id": "9b071916",
   "metadata": {},
   "outputs": [
    {
     "data": {
      "text/plain": [
       "array([('2012',  0. ), ('2012',  0. ), ('2012',  0. ), ...,\n",
       "       ('2021', 46.6), ('2021', 50.8), ('2021', 56. )],\n",
       "      dtype=[('year', '<U64'), ('value', '<f8')])"
      ]
     },
     "execution_count": 7,
     "metadata": {},
     "output_type": "execute_result"
    }
   ],
   "source": [
    "data_c_sorted = np.sort(data_c, order= ['year']) \n",
    "c = data_c_sorted[:np.where(data_c_sorted['year'] == '2012')[0][0]]\n",
    "data_c_sorted = np.append(data_c_sorted[np.where(data_c_sorted['year'] == '2012')[0][0]:], c)\n",
    "data_c_sorted"
   ]
  },
  {
   "cell_type": "code",
   "execution_count": 8,
   "id": "e16ef560",
   "metadata": {},
   "outputs": [
    {
     "data": {
      "image/png": "[encoded data removed]",
      "text/plain": [
       "<Figure size 640x480 with 1 Axes>"
      ]
     },
     "metadata": {},
     "output_type": "display_data"
    }
   ],
   "source": [
    "import matplotlib.pyplot as plt\n",
    "from matplotlib import style\n",
    " \n",
    "style.use('ggplot')\n",
    " \n",
    "x = ['2012', '2013', '2014', '2015', '2016', '2017', '2018', '2019', '2020', '2021']\n",
    "y = [v_12,v_13,v_14, v_15, v_16, v_17, v_18, v_19, v_20, v_21]\n",
    " \n",
    "plt.bar(x, y, align='center')\n",
    " \n",
    "plt.title('media valor observados 2012-2021')\n",
    "plt.ylabel('media valor')\n",
    "plt.xlabel('años')\n",
    " \n",
    "plt.show()"
   ]
  }
 ],
 "metadata": {
  "kernelspec": {
   "display_name": "Python 3 (ipykernel)",
   "language": "python",
   "name": "python3"
  },
  "language_info": {
   "codemirror_mode": {
    "name": "ipython",
    "version": 3
   },
   "file_extension": ".py",
   "mimetype": "text/x-python",
   "name": "python",
   "nbconvert_exporter": "python",
   "pygments_lexer": "ipython3",
   "version": "3.10.8"
  }
 },
 "nbformat": 4,
 "nbformat_minor": 5
}
